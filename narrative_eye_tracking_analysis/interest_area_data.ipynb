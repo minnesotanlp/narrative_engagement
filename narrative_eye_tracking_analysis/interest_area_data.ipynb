{
 "cells": [
  {
   "cell_type": "code",
   "execution_count": 1,
   "metadata": {},
   "outputs": [],
   "source": [
    "import pandas as pd\n",
    "import re\n",
    "import json"
   ]
  },
  {
   "cell_type": "code",
   "execution_count": 2,
   "metadata": {},
   "outputs": [],
   "source": [
    "# Get story text\n",
    "with open('schoolmistress.txt') as f:\n",
    "  sentences = f.read().splitlines()\n",
    "\n",
    "words = []\n",
    "for i in range(len(sentences)):\n",
    "  for word in sentences[i].split(\" \"):\n",
    "    word_cleaned = re.sub(r'[\\\",\\(,\\),\\,,\\;,\\.,\\?,\\!,\\:]', '', word)\n",
    "    words.append({\n",
    "      \"sentence\": i,\n",
    "      \"word\": word_cleaned,\n",
    "      \"word_length\": len(word_cleaned)\n",
    "    })\n"
   ]
  },
  {
   "cell_type": "code",
   "execution_count": 3,
   "metadata": {},
   "outputs": [],
   "source": [
    "# append story text to eyelink file\n",
    "eyelink_data = pd.read_csv('ia_files/id17_schoolmistress.txt', sep='\\t', low_memory=False)\n",
    "eyelink_data.head()\n",
    "words_df = pd.DataFrame(words)\n",
    "ia_df_subset = eyelink_data[[ 'IA_DWELL_TIME', 'IA_REGRESSION_PATH_DURATION', 'IA_AVERAGE_FIX_PUPIL_SIZE', \n",
    "      'IA_REGRESSION_IN_COUNT','IA_REGRESSION_OUT_FULL_COUNT']] \\\n",
    "      .applymap(lambda x: None if x == '.' else x)\n",
    "ia_df_clean = pd.DataFrame(ia_df_subset, dtype='float')\n",
    "eyelink_with_text = pd.concat([words_df, ia_df_clean], axis=1)\n"
   ]
  },
  {
   "cell_type": "code",
   "execution_count": 4,
   "metadata": {},
   "outputs": [],
   "source": [
    "# aggregate columns to get sentence vals\n",
    "ia_sentences_df = eyelink_with_text.groupby('sentence')\\\n",
    "    .agg({'IA_DWELL_TIME': 'sum', 'IA_REGRESSION_PATH_DURATION': 'sum',\n",
    "                  'IA_AVERAGE_FIX_PUPIL_SIZE': 'mean', 'IA_REGRESSION_IN_COUNT': 'sum',\n",
    "                  'IA_REGRESSION_OUT_FULL_COUNT': 'sum'})"
   ]
  },
  {
   "cell_type": "code",
   "execution_count": 5,
   "metadata": {},
   "outputs": [],
   "source": [
    "def convert_to_json(file_path):\n",
    "  f = open(file_path, 'r')\n",
    "  dict_list = f.readlines()\n",
    "  return list(map(lambda x: json.loads(x), dict_list))"
   ]
  },
  {
   "cell_type": "code",
   "execution_count": 6,
   "metadata": {},
   "outputs": [],
   "source": [
    "schoolmistress_emotion_json = convert_to_json('../emotional_story_arcs/data/kelsey/results/schoolmistress.emotion')"
   ]
  },
  {
   "cell_type": "code",
   "execution_count": 7,
   "metadata": {},
   "outputs": [],
   "source": [
    "schoolmistress_sentiment = pd.read_csv('../emotional_story_arcs/data/kelsey/results/schoolmistress.sentiment', sep='\\t', names=['negative', 'neutral', 'positive'])\n",
    "schoolmistress_emotion = pd.DataFrame.from_dict(schoolmistress_emotion_json)"
   ]
  },
  {
   "cell_type": "code",
   "execution_count": 13,
   "metadata": {},
   "outputs": [],
   "source": [
    "# Get highlight categories\n",
    "highlights = pd.read_csv('./highlights/id17_schoolmistress.csv').drop(['Unnamed: 0', 'proportion'], axis=1)"
   ]
  },
  {
   "cell_type": "code",
   "execution_count": 15,
   "metadata": {},
   "outputs": [],
   "source": [
    "# BookNLP features + some eye tracking features in one DataFrame by sentence\n",
    "sentences_with_features = pd.concat([schoolmistress_sentiment, schoolmistress_emotion], axis=1)\n",
    "sentences_with_features = pd.concat([sentences_with_features, ia_sentences_df], axis=1)\n",
    "sentences_with_features = pd.concat([sentences_with_features, highlights], axis=1)"
   ]
  },
  {
   "cell_type": "code",
   "execution_count": 16,
   "metadata": {},
   "outputs": [],
   "source": [
    "sentences_with_features.to_csv(\"./results/id17.csv\")"
   ]
  },
  {
   "cell_type": "code",
   "execution_count": null,
   "metadata": {},
   "outputs": [],
   "source": []
  }
 ],
 "metadata": {
  "kernelspec": {
   "display_name": "Python 3.9.10 ('eye_tracking_data-nnZ8SGWF')",
   "language": "python",
   "name": "python3"
  },
  "language_info": {
   "codemirror_mode": {
    "name": "ipython",
    "version": 3
   },
   "file_extension": ".py",
   "mimetype": "text/x-python",
   "name": "python",
   "nbconvert_exporter": "python",
   "pygments_lexer": "ipython3",
   "version": "3.9.10"
  },
  "orig_nbformat": 4,
  "vscode": {
   "interpreter": {
    "hash": "2f8f569a568121ac84c78b7f3bb2416907dc726ba0a84db6987ec122218d854c"
   }
  }
 },
 "nbformat": 4,
 "nbformat_minor": 2
}
