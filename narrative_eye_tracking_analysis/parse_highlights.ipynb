{
 "cells": [
  {
   "cell_type": "code",
   "execution_count": 1,
   "metadata": {},
   "outputs": [],
   "source": [
    "import pandas as pd\n",
    "import json\n",
    "import os"
   ]
  },
  {
   "cell_type": "code",
   "execution_count": 2,
   "metadata": {},
   "outputs": [],
   "source": [
    "def get_character_index(story_lines):\n",
    "  indexes = []\n",
    "  cur_index = 0\n",
    "  for i in range(len(story_lines)):\n",
    "    indexes.append(cur_index)\n",
    "    cur_index += len(story_lines[i])\n",
    "  indexes.append(cur_index)\n",
    "  return indexes"
   ]
  },
  {
   "cell_type": "code",
   "execution_count": 3,
   "metadata": {},
   "outputs": [],
   "source": [
    "schoolmistress_story_paragraphs = open('schoolmistress_paragraphs.txt', 'r').readlines()\n",
    "schoolmistress_story_paragraphs_indexes = get_character_index(schoolmistress_story_paragraphs)\n",
    "schoolmistress_story_sentences = open('schoolmistress.txt', 'r').readlines()\n",
    "schoolmistress_story_sentences_indexes = get_character_index(schoolmistress_story_sentences)\n",
    "\n",
    "el_story_paragraphs = open('expensivelessons_paragraphs.txt', 'r').readlines()\n",
    "el_story_paragraphs_indexes = get_character_index(el_story_paragraphs)\n",
    "el_story_sentences = open('expensivelessons.txt', 'r').readlines()\n",
    "el_story_sentences_indexes = get_character_index(el_story_sentences)"
   ]
  },
  {
   "cell_type": "code",
   "execution_count": 4,
   "metadata": {},
   "outputs": [],
   "source": [
    "def update_indexes(highlight, indexes):\n",
    "  for i in range(len(highlight) - 1):\n",
    "    highlight[i]['start'] = highlight[i]['start'] + indexes[highlight[-1]['paragraph']]\n",
    "    highlight[i]['end'] = highlight[i]['end'] + indexes[highlight[-1]['paragraph']]\n",
    "  return highlight"
   ]
  },
  {
   "cell_type": "code",
   "execution_count": 5,
   "metadata": {},
   "outputs": [],
   "source": [
    "def parse_highlights(filename, story_sentences, story_paragraphs, story_sentences_indexes, story_paragraphs_indexes):\n",
    "  highlight_file = open(f'./highlighting_logs/{filename}.log', 'r')\n",
    "  CATEGORY_MAP = {'None': 0, 'Present': 1, 'Confused': 2, 'Curious': 3, 'Connected': 4, 'Other': 5}\n",
    "  lines = highlight_file.readlines()\n",
    "  highlights = [None] * len(story_paragraphs)\n",
    "  for line in lines:\n",
    "    start = line.find('Highlight:')\n",
    "    if start != -1:\n",
    "      highlight = json.loads(str(line[start + len('Highlight: '):].replace(\"'\", '\"')), )\n",
    "      highlight_absolute_indexes = update_indexes(highlight, story_paragraphs_indexes)\n",
    "      highlights[highlight[-1]['paragraph']] = highlight_absolute_indexes\n",
    "  sentence_highlights = [{'category': 0, 'proportion': 0.0}] * len(story_sentences)\n",
    "  for i in range(len(highlights)):\n",
    "    if highlights[i] != None:\n",
    "      for k in range(len(highlights[i]) - 1):\n",
    "        start_sent = None\n",
    "        end_sent = None\n",
    "        for p in range(len(story_sentences_indexes) - 1):\n",
    "          if highlights[i][k]['start'] >= story_sentences_indexes[p] and highlights[i][k]['start'] < story_sentences_indexes[p+1]:\n",
    "            start_sent = p\n",
    "          if highlights[i][k]['end'] >= story_sentences_indexes[p] and highlights[i][k]['end'] < story_sentences_indexes[p+1]:\n",
    "            end_sent = p\n",
    "          if start_sent != None:\n",
    "            end_index = story_sentences_indexes[p+1] if end_sent == None else highlights[i][k]['end']\n",
    "            start_index = story_sentences_indexes[p] if story_sentences_indexes[p] > highlights[i][k]['start'] else highlights[i][k]['start']\n",
    "            proportion = (end_index - start_index) / (story_sentences_indexes[p+1] - story_sentences_indexes[p])\n",
    "            # print(f\"start: {start_index}, end: {end_index}, proportion: {proportion}\")\n",
    "            if proportion > sentence_highlights[p]['proportion']:\n",
    "              sentence_highlights[p] = {'category': CATEGORY_MAP[highlights[i][k]['tag']], 'proportion': proportion}\n",
    "          if end_sent != None:\n",
    "            break\n",
    "  \n",
    "  highlight_df = pd.DataFrame.from_dict(sentence_highlights)\n",
    "  highlight_df.to_csv(f'./highlights/{filename}.csv')"
   ]
  },
  {
   "cell_type": "code",
   "execution_count": 6,
   "metadata": {},
   "outputs": [],
   "source": [
    "HIGHLIGHT_DIR = \"./highlighting_logs/\"\n",
    "\n",
    "for filename in os.listdir(HIGHLIGHT_DIR):\n",
    "    f = os.path.join(HIGHLIGHT_DIR,filename)\n",
    "    if os.path.isfile(f):\n",
    "        filename = f.replace(HIGHLIGHT_DIR, '').replace('.log', '')\n",
    "        if 'schoolmistress' in filename:\n",
    "          parse_highlights(filename, schoolmistress_story_sentences, schoolmistress_story_paragraphs, schoolmistress_story_sentences_indexes, schoolmistress_story_paragraphs_indexes)\n",
    "        elif 'el' in filename:\n",
    "          parse_highlights(filename, el_story_sentences, el_story_paragraphs, el_story_sentences_indexes, el_story_paragraphs_indexes)\n",
    "\n"
   ]
  },
  {
   "cell_type": "code",
   "execution_count": null,
   "metadata": {},
   "outputs": [],
   "source": []
  },
  {
   "cell_type": "code",
   "execution_count": null,
   "metadata": {},
   "outputs": [],
   "source": []
  }
 ],
 "metadata": {
  "kernelspec": {
   "display_name": "narrative_engagement-1kgk4Qlh",
   "language": "python",
   "name": "python3"
  },
  "language_info": {
   "codemirror_mode": {
    "name": "ipython",
    "version": 3
   },
   "file_extension": ".py",
   "mimetype": "text/x-python",
   "name": "python",
   "nbconvert_exporter": "python",
   "pygments_lexer": "ipython3",
   "version": "3.9.10 (main, Jan 15 2022, 11:40:53) \n[Clang 13.0.0 (clang-1300.0.29.3)]"
  },
  "orig_nbformat": 4,
  "vscode": {
   "interpreter": {
    "hash": "ce6e9f89b8ba06df44163b972ee2537d17b2ddac401432716e00090db9961c19"
   }
  }
 },
 "nbformat": 4,
 "nbformat_minor": 2
}
