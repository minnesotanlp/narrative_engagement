{
 "cells": [
  {
   "cell_type": "code",
   "execution_count": 3,
   "metadata": {},
   "outputs": [],
   "source": [
    "import pandas as pd\n",
    "import json"
   ]
  },
  {
   "cell_type": "code",
   "execution_count": 4,
   "metadata": {},
   "outputs": [],
   "source": [
    "def get_character_index(story_lines):\n",
    "  indexes = []\n",
    "  cur_index = 0\n",
    "  for i in range(len(story_lines)):\n",
    "    indexes.append(cur_index)\n",
    "    cur_index += len(story_lines[i])\n",
    "  indexes.append(cur_index)\n",
    "  return indexes"
   ]
  },
  {
   "cell_type": "code",
   "execution_count": 5,
   "metadata": {},
   "outputs": [],
   "source": [
    "story_paragraphs = open('schoolmistress_paragraphs.txt', 'r').readlines()\n",
    "story_paragraphs_indexes = get_character_index(story_paragraphs)\n",
    "story_sentences = open('schoolmistress.txt', 'r').readlines()\n",
    "story_sentences_indexes = get_character_index(story_sentences)"
   ]
  },
  {
   "cell_type": "code",
   "execution_count": 6,
   "metadata": {},
   "outputs": [],
   "source": [
    "def update_indexes(highlight, indexes):\n",
    "  for i in range(len(highlight) - 1):\n",
    "    highlight[i]['start'] = highlight[i]['start'] + indexes[highlight[-1]['paragraph']]\n",
    "    highlight[i]['end'] = highlight[i]['end'] + indexes[highlight[-1]['paragraph']]\n",
    "  return highlight"
   ]
  },
  {
   "cell_type": "code",
   "execution_count": 7,
   "metadata": {},
   "outputs": [],
   "source": [
    "highlight_file = open('./highlighting_logs/id17_schoolmistress.log', 'r')\n",
    "lines = highlight_file.readlines()\n",
    "highlights = [None] * len(story_paragraphs)\n",
    "for line in lines:\n",
    "  start = line.find('Highlight:')\n",
    "  if start != -1:\n",
    "    highlight = json.loads(line[start + len('Highlight: '):].replace(\"'\", '\"'))\n",
    "    highlight_absolute_indexes = update_indexes(highlight, story_paragraphs_indexes)\n",
    "    highlights[highlight[-1]['paragraph']] = highlight_absolute_indexes\n"
   ]
  },
  {
   "cell_type": "code",
   "execution_count": 8,
   "metadata": {},
   "outputs": [],
   "source": [
    "CATEGORY_MAP = {'None': 0, 'Present': 1, 'Confused': 2, 'Curious': 3, 'Connected': 4, 'Other': 5}"
   ]
  },
  {
   "cell_type": "code",
   "execution_count": 9,
   "metadata": {},
   "outputs": [],
   "source": [
    "sentence_highlights = [{'category': 0, 'proportion': 0.0}] * len(story_sentences)\n",
    "for i in range(len(highlights)):\n",
    "  if highlights[i] != None:\n",
    "    for k in range(len(highlights[i]) - 1):\n",
    "      start_sent = None\n",
    "      end_sent = None\n",
    "      for p in range(len(story_sentences_indexes) - 1):\n",
    "        if highlights[i][k]['start'] >= story_sentences_indexes[p] and highlights[i][k]['start'] < story_sentences_indexes[p+1]:\n",
    "          start_sent = p\n",
    "        if highlights[i][k]['end'] >= story_sentences_indexes[p] and highlights[i][k]['end'] < story_sentences_indexes[p+1]:\n",
    "          end_sent = p\n",
    "        if start_sent != None:\n",
    "          end_index = story_sentences_indexes[p+1] if end_sent == None else highlights[i][k]['end']\n",
    "          start_index = story_sentences_indexes[p] if story_sentences_indexes[p] > highlights[i][k]['start'] else highlights[i][k]['start']\n",
    "          proportion = (end_index - start_index) / (story_sentences_indexes[p+1] - story_sentences_indexes[p])\n",
    "          # print(f\"start: {start_index}, end: {end_index}, proportion: {proportion}\")\n",
    "          if proportion > sentence_highlights[p]['proportion']:\n",
    "            sentence_highlights[p] = {'category': CATEGORY_MAP[highlights[i][k]['tag']], 'proportion': proportion}\n",
    "        if end_sent != None:\n",
    "          break"
   ]
  },
  {
   "cell_type": "code",
   "execution_count": 10,
   "metadata": {},
   "outputs": [],
   "source": [
    "file_name = 'id17_schoolmistress'\n",
    "highlight_df = pd.DataFrame.from_dict(sentence_highlights)\n",
    "highlight_df.to_csv(f'./highlights/{file_name}.csv')"
   ]
  },
  {
   "cell_type": "code",
   "execution_count": null,
   "metadata": {},
   "outputs": [],
   "source": []
  }
 ],
 "metadata": {
  "kernelspec": {
   "display_name": "narrative_engagement-1kgk4Qlh",
   "language": "python",
   "name": "python3"
  },
  "language_info": {
   "codemirror_mode": {
    "name": "ipython",
    "version": 3
   },
   "file_extension": ".py",
   "mimetype": "text/x-python",
   "name": "python",
   "nbconvert_exporter": "python",
   "pygments_lexer": "ipython3",
   "version": "3.9.10"
  },
  "orig_nbformat": 4,
  "vscode": {
   "interpreter": {
    "hash": "ce6e9f89b8ba06df44163b972ee2537d17b2ddac401432716e00090db9961c19"
   }
  }
 },
 "nbformat": 4,
 "nbformat_minor": 2
}
