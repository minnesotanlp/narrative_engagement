{
 "cells": [
  {
   "cell_type": "code",
   "execution_count": 2,
   "metadata": {},
   "outputs": [],
   "source": [
    "import pandas as pd\n",
    "import json"
   ]
  },
  {
   "cell_type": "code",
   "execution_count": 27,
   "metadata": {},
   "outputs": [],
   "source": [
    "def get_character_index(story_lines):\n",
    "  indexes = []\n",
    "  cur_index = 0\n",
    "  for i in range(len(story_lines)):\n",
    "    indexes.append(cur_index)\n",
    "    cur_index += len(story_lines[i])\n",
    "  indexes.append(cur_index)\n",
    "  return indexes"
   ]
  },
  {
   "cell_type": "code",
   "execution_count": 28,
   "metadata": {},
   "outputs": [],
   "source": [
    "story_paragraphs = open('schoolmistress_paragraphs.txt', 'r').readlines()\n",
    "story_paragraphs_indexes = get_character_index(story_paragraphs)\n",
    "story_sentences = open('schoolmistress.txt', 'r').readlines()\n",
    "story_sentences_indexes = get_character_index(story_sentences)"
   ]
  },
  {
   "cell_type": "code",
   "execution_count": 29,
   "metadata": {},
   "outputs": [],
   "source": [
    "def update_indexes(highlight, indexes):\n",
    "  for i in range(len(highlight) - 1):\n",
    "    highlight[i]['start'] = highlight[i]['start'] + indexes[highlight[-1]['paragraph']]\n",
    "    highlight[i]['end'] = highlight[i]['end'] + indexes[highlight[-1]['paragraph']]\n",
    "  return highlight"
   ]
  },
  {
   "cell_type": "code",
   "execution_count": 30,
   "metadata": {},
   "outputs": [],
   "source": [
    "highlight_file = open('./highlighting_logs/id17_schoolmistress.log', 'r')\n",
    "lines = highlight_file.readlines()\n",
    "highlights = [None] * len(story_paragraphs)\n",
    "for line in lines:\n",
    "  start = line.find('Highlight:')\n",
    "  if start != -1:\n",
    "    highlight = json.loads(line[start + len('Highlight: '):].replace(\"'\", '\"'))\n",
    "    highlight_absolute_indexes = update_indexes(highlight, story_paragraphs_indexes)\n",
    "    highlights[highlight[-1]['paragraph']] = highlight_absolute_indexes\n"
   ]
  },
  {
   "cell_type": "code",
   "execution_count": 69,
   "metadata": {},
   "outputs": [
    {
     "name": "stdout",
     "output_type": "stream",
     "text": [
      "[{'start': 18825, 'end': 18852, 'text': 'And at once it all vanished', 'tag': 'Connected', 'color': '#D55E00'}, {'paragraph': 72}]\n"
     ]
    }
   ],
   "source": [
    "print(highlights[72])"
   ]
  },
  {
   "cell_type": "code",
   "execution_count": 66,
   "metadata": {},
   "outputs": [
    {
     "name": "stdout",
     "output_type": "stream",
     "text": [
      "checking highlight for The highroad was dry, a lovely April sun was shining warmly, but the snow was still lying in the ditches and in the woods.\n",
      "start: 47, end: 169, proportion: 0.991869918699187\n",
      "checking highlight for  warmed by the breath of spring, nor the black flocks of birds flying over the huge puddles that were like lakes, nor the marvelous fathomless sky, into which it seemed one would have gone away so joyfully\n",
      "start: 311, end: 516, proportion: 0.5823863636363636\n",
      "checking highlight for  For thirteen years she had been schoolmistress, and there was no reckoning how many times during all those years she had been to the town for her salary; and whether it were spring as now, or a rainy autumn evening, or winter, it was all the same to her, and she always—invariably—longed for one thing only, to get to the end of her journey as quickly as could be.\n",
      "start: 605, end: 606, proportion: 0.002840909090909091\n",
      "start: 606, end: 970, proportion: 0.9972602739726028\n",
      "checking highlight for She felt as though she had been living in that part of the country for ages and ages, for a hundred years,\n",
      "start: 971, end: 1077, proportion: 0.5120772946859904\n",
      "checking highlight for Her past was here, her present was here, and she could imagine no other future than the school, the road to the town and back again, and again the school and again the road\n",
      "start: 1178, end: 1350, proportion: 0.9717514124293786\n",
      "checking highlight for  but of all that life there was left in her memory only something vague and fluid like a dream\n",
      "start: 1568, end: 1662, proportion: 0.49214659685863876\n",
      "checking highlight for at first they used to write to each other, then her brother had given up answering her letters, he had got out of the way of writing.\n",
      "start: 1782, end: 1915, proportion: 0.806060606060606\n",
      "checking highlight for  And just as she was thinking about the examination, she was overtaken by a neighboring landowner called Hanov in a carriage with four horses, the very man who had been examiner in her school the year before. When he came up to her he recognized her and bowed.\n",
      "start: 2615, end: 2616, proportion: 0.007194244604316547\n",
      "start: 2616, end: 2824, proportion: 1.0\n",
      "start: 2824, end: 2875, proportion: 0.9807692307692307\n",
      "checking highlight for people used to say of him that he did nothing at home but walk up and down the room whistling, or play chess with his old footman.\n",
      "start: 3176, end: 3306, proportion: 0.65\n",
      "checking highlight for while this one did not remember a single prayer, or know what to ask questions about\n",
      "start: 3697, end: 3781, proportion: 0.3514644351464435\n",
      "checking highlight for she felt annoyed with the Zemstvo board at which she had found no one the day before. How unbusiness-like! Here she had been asking them for the last two years to dismiss the watchman, who did nothing, was rude to her, and hit the schoolboys; but no one paid any attention\n",
      "start: 4503, end: 4589, proportion: 0.9555555555555556\n",
      "start: 4589, end: 4610, proportion: 1.0\n",
      "start: 4610, end: 4775, proportion: 0.9880239520958084\n",
      "checking highlight for They drove into the wood. Here there was no room to turn round, the wheels sank deeply in, water splashed and gurgled through them, and sharp twigs struck them in the face.\n",
      "start: 5526, end: 5552, proportion: 1.0\n",
      "start: 5552, end: 5698, proportion: 0.9931972789115646\n",
      "checking highlight for What could his money, his interesting appearance, his refined bearing do for him here, in this mud, in this God-forsaken, dreary place?\n",
      "start: 5831, end: 5966, proportion: 0.9926470588235294\n",
      "checking highlight for There was a steep ascent uphill through the clay; here in the winding ditches rivulets were gurgling. The water seemed to have gnawed away the road\n",
      "start: 6961, end: 7063, proportion: 1.0\n",
      "start: 7063, end: 7108, proportion: 0.5555555555555556\n",
      "checking highlight for but yet in his walk there was something just perceptible which betrayed in him a being already touched by decay, weak, and on the road to ruin\n",
      "start: 7569, end: 7711, proportion: 0.7282051282051282\n",
      "checking highlight for She longed to think of beautiful eyes, of love, of the happiness which would never be.\n",
      "start: 8935, end: 9021, proportion: 0.86\n",
      "checking highlight for  And at night she dreamed of examinations, peasants, snowdrifts. And this life was making her grow old and coarse, making her ugly, angular, and awkward, as though she were made of lead. She was always afraid\n",
      "start: 9610, end: 9611, proportion: 0.004807692307692308\n",
      "start: 9611, end: 9675, proportion: 1.0\n",
      "start: 9675, end: 9797, proportion: 1.0\n",
      "start: 9797, end: 9818, proportion: 0.13725490196078433\n",
      "checking highlight for  The patches of sunshine had been on the floor, then they passed to the counter, to the wall, and disappeared altogether; so by the sun it was past midday. \n",
      "start: 13479, end: 13480, proportion: 0.00847457627118644\n",
      "start: 13480, end: 13635, proportion: 1.0\n",
      "start: 13635, end: 13635, proportion: 0.0\n",
      "checking highlight for t was clear that Semyon did not believe the schoolmistress. The peasants did not believe her\n",
      "start: 14498, end: 14558, proportion: 0.9230769230769231\n",
      "start: 14558, end: 14590, proportion: 0.9411764705882353\n",
      "checking highlight for , but now, after the spring floods, it was a river forty feet in breadth, rapid, muddy, and cold; on the bank and right up to the water there were fresh tracks of wheels, so it had been crossed here.\n",
      "start: 15888, end: 16087, proportion: 0.868995633187773\n",
      "checking highlight for “Go on!” shouted Semyon angrily and anxiously, tugging violently at the reins and jerking his elbows as a bird does its wings. “Go on!”\n",
      "start: 16088, end: 16097, proportion: 1.0\n",
      "start: 16097, end: 16215, proportion: 1.0\n",
      "start: 16215, end: 16223, proportion: 0.8888888888888888\n",
      "checking highlight for The horse went on into the water up to his belly and stopped, but at once went on again with an effort, and Marya Vassilyevna was aware of a keen chilliness in her feet.\n",
      "start: 16224, end: 16393, proportion: 0.9941176470588236\n",
      "checking highlight for Her shoes and goloshes were full of water, the lower part of her dress and of her coat and one sleeve were wet and dripping: the sugar and flour had got wet, and that was worst of all, and Marya Vassilyevna could only clasp her hands in despair and say:\n",
      "start: 16604, end: 16606, proportion: 0.043478260869565216\n",
      "start: 16606, end: 16857, proportion: 0.9127272727272727\n",
      "checking highlight for Marya Vassilyevna stood at the crossing waiting till it should pass, and shivering all over with cold. Vyazovye was in sight now, and the school with the green roof, and the church with its crosses flashing in the evening sun: and the station windows flashed too, and a pink smoke rose from the engine... and it seemed to her that everything was trembling with cold.\n",
      "start: 16997, end: 16999, proportion: 0.05128205128205128\n",
      "start: 16999, end: 17102, proportion: 1.0\n",
      "start: 17102, end: 17363, proportion: 0.9886363636363636\n",
      "checking highlight for  Marya Vassilyevna glanced at her as she passed. Her mother! What a resemblance! Her mother had had just such luxuriant hair, just such a brow and bend of the head. And with amazing distinctness, for the first time in those thirteen years, there rose before her mind a vivid picture of her mother, her father, her brother, their flat in Moscow, the aquarium with little fish, everything to the tiniest detail; she heard the sound of the piano, her father’s voice; she felt as she had been then, young, good-looking, well-dressed, in a bright warm room among her own people. A feeling of joy and happiness suddenly came over her, she pressed her hands to her temples in an ecstacy, and called softly, beseechingly:\n",
      "start: 17577, end: 17628, proportion: 0.3923076923076923\n",
      "start: 17628, end: 17640, proportion: 1.0\n",
      "start: 17640, end: 17660, proportion: 1.0\n",
      "start: 17660, end: 17744, proportion: 1.0\n",
      "start: 17744, end: 18153, proportion: 1.0\n",
      "start: 18153, end: 18290, proportion: 0.9133333333333333\n",
      "checking highlight for And she began crying, she did not know why. Just at that instant Hanov drove up with his team of four horses, and seeing him she imagined happiness such as she had never had, and smiled and nodded to him as an equal and a friend, and it seemed to her that her happiness, her triumph, was glowing in the sky and on all sides, in the windows and on the trees. Her father and mother had never died, she had never been a schoolmistress, it was a long, tedious, strange dream, and now she had awakened\n",
      "start: 18301, end: 18303, proportion: 0.013333333333333334\n",
      "start: 18303, end: 18347, proportion: 1.0\n",
      "start: 18347, end: 18661, proportion: 1.0\n",
      "start: 18661, end: 18797, proportion: 0.8192771084337349\n",
      "checking highlight for And at once it all vanished\n",
      "start: 18825, end: 18827, proportion: 0.012048192771084338\n",
      "start: 18827, end: 18852, proportion: 0.8620689655172413\n"
     ]
    }
   ],
   "source": [
    "sentence_highlights = [{'category': None, 'proportion': 0.0}] * len(story_sentences)\n",
    "for i in range(len(highlights)):\n",
    "  if highlights[i] != None:\n",
    "    for k in range(len(highlights[i]) - 1):\n",
    "      start_sent = None\n",
    "      end_sent = None\n",
    "      print(f\"checking highlight for {highlights[i][k]['text']}\")\n",
    "      for p in range(len(story_sentences_indexes) - 1):\n",
    "        if highlights[i][k]['start'] >= story_sentences_indexes[p] and highlights[i][k]['start'] < story_sentences_indexes[p+1]:\n",
    "          start_sent = p\n",
    "        if highlights[i][k]['end'] >= story_sentences_indexes[p] and highlights[i][k]['end'] < story_sentences_indexes[p+1]:\n",
    "          end_sent = p\n",
    "        if start_sent != None:\n",
    "          end_index = story_sentences_indexes[p+1] if end_sent == None else highlights[i][k]['end']\n",
    "          start_index = story_sentences_indexes[p] if story_sentences_indexes[p] > highlights[i][k]['start'] else highlights[i][k]['start']\n",
    "          proportion = (end_index - start_index) / (story_sentences_indexes[p+1] - story_sentences_indexes[p])\n",
    "          print(f\"start: {start_index}, end: {end_index}, proportion: {proportion}\")\n",
    "          if proportion > sentence_highlights[p]['proportion']:\n",
    "            sentence_highlights[p] = {'category': highlights[i][k]['tag'], 'proportion': proportion}\n",
    "        if end_sent != None:\n",
    "          break"
   ]
  },
  {
   "cell_type": "code",
   "execution_count": null,
   "metadata": {},
   "outputs": [],
   "source": []
  }
 ],
 "metadata": {
  "kernelspec": {
   "display_name": "narrative_engagement-1kgk4Qlh",
   "language": "python",
   "name": "python3"
  },
  "language_info": {
   "codemirror_mode": {
    "name": "ipython",
    "version": 3
   },
   "file_extension": ".py",
   "mimetype": "text/x-python",
   "name": "python",
   "nbconvert_exporter": "python",
   "pygments_lexer": "ipython3",
   "version": "3.9.10"
  },
  "orig_nbformat": 4,
  "vscode": {
   "interpreter": {
    "hash": "ce6e9f89b8ba06df44163b972ee2537d17b2ddac401432716e00090db9961c19"
   }
  }
 },
 "nbformat": 4,
 "nbformat_minor": 2
}
