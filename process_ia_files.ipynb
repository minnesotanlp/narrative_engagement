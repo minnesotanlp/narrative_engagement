{
 "cells": [
  {
   "cell_type": "code",
   "execution_count": 2,
   "metadata": {},
   "outputs": [],
   "source": [
    "import pandas as pd\n",
    "import os\n",
    "from eyetracking_style import find_correlations\n"
   ]
  },
  {
   "cell_type": "code",
   "execution_count": 4,
   "metadata": {},
   "outputs": [],
   "source": [
    "IA_DIR = \"narrative_eye_tracking_analysis/ia_files/\"\n",
    "\n",
    "for filename in os.listdir(IA_DIR):\n",
    "    f = os.path.join(IA_DIR,filename)\n",
    "    if os.path.isfile(f):\n",
    "        # print(f)\n",
    "        pass"
   ]
  },
  {
   "cell_type": "code",
   "execution_count": 11,
   "metadata": {},
   "outputs": [],
   "source": [
    "ia_file = os.path.join(IA_DIR, \"id21_el.txt\")\n",
    "ia_df_raw = pd.read_csv(ia_file, sep='\\t', low_memory=False)\n",
    "ia_df_clean = ia_df_raw[[ 'IA_DWELL_TIME', 'IA_REGRESSION_PATH_DURATION', 'IA_AVERAGE_FIX_PUPIL_SIZE', 'IA_REGRESSION_IN_COUNT','IA_REGRESSION_OUT_FULL_COUNT']]"
   ]
  },
  {
   "cell_type": "code",
   "execution_count": null,
   "metadata": {},
   "outputs": [],
   "source": [
    "ia_sentence_df = pd.concat"
   ]
  }
 ],
 "metadata": {
  "kernelspec": {
   "display_name": "python-scraps-fAaJKGr8",
   "language": "python",
   "name": "python3"
  },
  "language_info": {
   "codemirror_mode": {
    "name": "ipython",
    "version": 3
   },
   "file_extension": ".py",
   "mimetype": "text/x-python",
   "name": "python",
   "nbconvert_exporter": "python",
   "pygments_lexer": "ipython3",
   "version": "3.9.10 (main, Jan 15 2022, 11:40:53) \n[Clang 13.0.0 (clang-1300.0.29.3)]"
  },
  "orig_nbformat": 4,
  "vscode": {
   "interpreter": {
    "hash": "581f1045db2280ff6b67f7603a6643419e6d4ff8b0ea51ff4bcc2bb23747725a"
   }
  }
 },
 "nbformat": 4,
 "nbformat_minor": 2
}
